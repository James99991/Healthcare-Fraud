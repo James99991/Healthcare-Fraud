{
 "cells": [
  {
   "cell_type": "markdown",
   "metadata": {},
   "source": [
    "# 3.0 Build Machine Learning Model for Healthcare Provider Fraud Dataset\n",
    "\n",
    "`Author: James Smith`\n",
    "\n",
    "`Date of Creation: 21/03/2020`\n",
    "\n",
    "`Programming for Big Data: Assignment 2`\n",
    "\n",
    "`Overview: The purpose of this notebook is to build a predictive model to detect Healthcare Provider Fraud.`"
   ]
  },
  {
   "cell_type": "markdown",
   "metadata": {},
   "source": [
    "# Load Dataset"
   ]
  },
  {
   "cell_type": "code",
   "execution_count": 1,
   "metadata": {},
   "outputs": [],
   "source": [
    "# For working with directories\n",
    "import os\n",
    "# Finds pathnames matching a specified pattern\n",
    "import glob\n",
    "# For data analysis and manipulation\n",
    "import pandas as pd\n",
    "# Linear algebra\n",
    "import numpy as np\n",
    "# To time processes\n",
    "import time\n",
    "# Quick EDA\n",
    "from pandas_profiling import ProfileReport\n",
    "# Working with dates\n",
    "import datetime\n",
    "# Plotting\n",
    "import matplotlib.pyplot as plt\n",
    "import seaborn as sns\n",
    "\n",
    "from sklearn.model_selection import train_test_split"
   ]
  },
  {
   "cell_type": "code",
   "execution_count": 2,
   "metadata": {},
   "outputs": [],
   "source": [
    "# Define working directory\n",
    "path = os.getcwd()\n",
    "\n",
    "# Define parent/project directory\n",
    "project_directory = os.path.abspath(os.path.join(path, os.pardir))\n",
    "\n",
    "# project_directory and data_folder are defined earlier\n",
    "dataset_name = \"2.0_cleaned_dataset\"\n",
    "processed_data_folder_path = os.path.join(project_directory,\n",
    "                                          \"data\", \"processed\", \n",
    "                                          dataset_name)\n",
    "# Load\n",
    "df = pd.read_csv(processed_data_folder_path + \".csv\")"
   ]
  },
  {
   "cell_type": "code",
   "execution_count": 3,
   "metadata": {},
   "outputs": [
    {
     "name": "stdout",
     "output_type": "stream",
     "text": [
      "The table contains 558211 rows and 41 columns\n"
     ]
    },
    {
     "data": {
      "text/html": [
       "<div>\n",
       "<style scoped>\n",
       "    .dataframe tbody tr th:only-of-type {\n",
       "        vertical-align: middle;\n",
       "    }\n",
       "\n",
       "    .dataframe tbody tr th {\n",
       "        vertical-align: top;\n",
       "    }\n",
       "\n",
       "    .dataframe thead th {\n",
       "        text-align: right;\n",
       "    }\n",
       "</style>\n",
       "<table border=\"1\" class=\"dataframe\">\n",
       "  <thead>\n",
       "    <tr style=\"text-align: right;\">\n",
       "      <th></th>\n",
       "      <th>BeneID</th>\n",
       "      <th>ClaimID</th>\n",
       "      <th>ClaimStartDt</th>\n",
       "      <th>ClaimEndDt</th>\n",
       "      <th>Provider</th>\n",
       "      <th>InscClaimAmtReimbursed</th>\n",
       "      <th>inpatient_status</th>\n",
       "      <th>DOB</th>\n",
       "      <th>Gender</th>\n",
       "      <th>Race</th>\n",
       "      <th>...</th>\n",
       "      <th>ClaimStartDt_year</th>\n",
       "      <th>ClaimStartDt_yearmonth</th>\n",
       "      <th>ClaimStartDt_dow</th>\n",
       "      <th>ClaimEndDt_year</th>\n",
       "      <th>ClaimEndDt_yearmonth</th>\n",
       "      <th>ClaimEndDt_dow</th>\n",
       "      <th>ClaimLength</th>\n",
       "      <th>DOB_year</th>\n",
       "      <th>OperatingPhysician_flag</th>\n",
       "      <th>OtherPhysician_flag</th>\n",
       "    </tr>\n",
       "  </thead>\n",
       "  <tbody>\n",
       "    <tr>\n",
       "      <th>0</th>\n",
       "      <td>BENE11001</td>\n",
       "      <td>CLM46614</td>\n",
       "      <td>2009-04-12</td>\n",
       "      <td>2009-04-18</td>\n",
       "      <td>PRV55912</td>\n",
       "      <td>26000</td>\n",
       "      <td>0</td>\n",
       "      <td>1943-01-01</td>\n",
       "      <td>1</td>\n",
       "      <td>1</td>\n",
       "      <td>...</td>\n",
       "      <td>2009</td>\n",
       "      <td>20094</td>\n",
       "      <td>6</td>\n",
       "      <td>2009</td>\n",
       "      <td>20094</td>\n",
       "      <td>5</td>\n",
       "      <td>6</td>\n",
       "      <td>1943</td>\n",
       "      <td>0</td>\n",
       "      <td>0</td>\n",
       "    </tr>\n",
       "    <tr>\n",
       "      <th>1</th>\n",
       "      <td>BENE16973</td>\n",
       "      <td>CLM565430</td>\n",
       "      <td>2009-09-06</td>\n",
       "      <td>2009-09-06</td>\n",
       "      <td>PRV55912</td>\n",
       "      <td>50</td>\n",
       "      <td>1</td>\n",
       "      <td>1932-05-01</td>\n",
       "      <td>1</td>\n",
       "      <td>1</td>\n",
       "      <td>...</td>\n",
       "      <td>2009</td>\n",
       "      <td>20099</td>\n",
       "      <td>6</td>\n",
       "      <td>2009</td>\n",
       "      <td>20099</td>\n",
       "      <td>6</td>\n",
       "      <td>0</td>\n",
       "      <td>1932</td>\n",
       "      <td>1</td>\n",
       "      <td>0</td>\n",
       "    </tr>\n",
       "    <tr>\n",
       "      <th>2</th>\n",
       "      <td>BENE17521</td>\n",
       "      <td>CLM34721</td>\n",
       "      <td>2009-01-20</td>\n",
       "      <td>2009-02-01</td>\n",
       "      <td>PRV55912</td>\n",
       "      <td>19000</td>\n",
       "      <td>0</td>\n",
       "      <td>1913-12-01</td>\n",
       "      <td>2</td>\n",
       "      <td>1</td>\n",
       "      <td>...</td>\n",
       "      <td>2009</td>\n",
       "      <td>20091</td>\n",
       "      <td>1</td>\n",
       "      <td>2009</td>\n",
       "      <td>20092</td>\n",
       "      <td>6</td>\n",
       "      <td>12</td>\n",
       "      <td>1913</td>\n",
       "      <td>1</td>\n",
       "      <td>1</td>\n",
       "    </tr>\n",
       "    <tr>\n",
       "      <th>3</th>\n",
       "      <td>BENE21718</td>\n",
       "      <td>CLM72336</td>\n",
       "      <td>2009-10-17</td>\n",
       "      <td>2009-11-04</td>\n",
       "      <td>PRV55912</td>\n",
       "      <td>17000</td>\n",
       "      <td>0</td>\n",
       "      <td>1922-10-01</td>\n",
       "      <td>1</td>\n",
       "      <td>1</td>\n",
       "      <td>...</td>\n",
       "      <td>2009</td>\n",
       "      <td>200910</td>\n",
       "      <td>5</td>\n",
       "      <td>2009</td>\n",
       "      <td>200911</td>\n",
       "      <td>2</td>\n",
       "      <td>18</td>\n",
       "      <td>1922</td>\n",
       "      <td>1</td>\n",
       "      <td>0</td>\n",
       "    </tr>\n",
       "    <tr>\n",
       "      <th>4</th>\n",
       "      <td>BENE22934</td>\n",
       "      <td>CLM73394</td>\n",
       "      <td>2009-10-25</td>\n",
       "      <td>2009-10-29</td>\n",
       "      <td>PRV55912</td>\n",
       "      <td>13000</td>\n",
       "      <td>0</td>\n",
       "      <td>1930-07-01</td>\n",
       "      <td>2</td>\n",
       "      <td>1</td>\n",
       "      <td>...</td>\n",
       "      <td>2009</td>\n",
       "      <td>200910</td>\n",
       "      <td>6</td>\n",
       "      <td>2009</td>\n",
       "      <td>200910</td>\n",
       "      <td>3</td>\n",
       "      <td>4</td>\n",
       "      <td>1930</td>\n",
       "      <td>1</td>\n",
       "      <td>1</td>\n",
       "    </tr>\n",
       "  </tbody>\n",
       "</table>\n",
       "<p>5 rows × 41 columns</p>\n",
       "</div>"
      ],
      "text/plain": [
       "      BeneID    ClaimID ClaimStartDt  ClaimEndDt  Provider  \\\n",
       "0  BENE11001   CLM46614   2009-04-12  2009-04-18  PRV55912   \n",
       "1  BENE16973  CLM565430   2009-09-06  2009-09-06  PRV55912   \n",
       "2  BENE17521   CLM34721   2009-01-20  2009-02-01  PRV55912   \n",
       "3  BENE21718   CLM72336   2009-10-17  2009-11-04  PRV55912   \n",
       "4  BENE22934   CLM73394   2009-10-25  2009-10-29  PRV55912   \n",
       "\n",
       "   InscClaimAmtReimbursed  inpatient_status         DOB  Gender  Race  \\\n",
       "0                   26000                 0  1943-01-01       1     1   \n",
       "1                      50                 1  1932-05-01       1     1   \n",
       "2                   19000                 0  1913-12-01       2     1   \n",
       "3                   17000                 0  1922-10-01       1     1   \n",
       "4                   13000                 0  1930-07-01       2     1   \n",
       "\n",
       "          ...          ClaimStartDt_year  ClaimStartDt_yearmonth  \\\n",
       "0         ...                       2009                   20094   \n",
       "1         ...                       2009                   20099   \n",
       "2         ...                       2009                   20091   \n",
       "3         ...                       2009                  200910   \n",
       "4         ...                       2009                  200910   \n",
       "\n",
       "   ClaimStartDt_dow  ClaimEndDt_year  ClaimEndDt_yearmonth  ClaimEndDt_dow  \\\n",
       "0                 6             2009                 20094               5   \n",
       "1                 6             2009                 20099               6   \n",
       "2                 1             2009                 20092               6   \n",
       "3                 5             2009                200911               2   \n",
       "4                 6             2009                200910               3   \n",
       "\n",
       "   ClaimLength  DOB_year  OperatingPhysician_flag  OtherPhysician_flag  \n",
       "0            6      1943                        0                    0  \n",
       "1            0      1932                        1                    0  \n",
       "2           12      1913                        1                    1  \n",
       "3           18      1922                        1                    0  \n",
       "4            4      1930                        1                    1  \n",
       "\n",
       "[5 rows x 41 columns]"
      ]
     },
     "execution_count": 3,
     "metadata": {},
     "output_type": "execute_result"
    }
   ],
   "source": [
    "df = df.drop(\"Unnamed: 0\", axis = 1)\n",
    "print(\"The table contains {} rows and {} columns\".format(df.shape[0], df.shape[1]))\n",
    "df.head()"
   ]
  },
  {
   "cell_type": "code",
   "execution_count": 4,
   "metadata": {},
   "outputs": [
    {
     "data": {
      "text/plain": [
       "BeneID                             object\n",
       "ClaimID                            object\n",
       "ClaimStartDt                       object\n",
       "ClaimEndDt                         object\n",
       "Provider                           object\n",
       "InscClaimAmtReimbursed              int64\n",
       "inpatient_status                    int64\n",
       "DOB                                object\n",
       "Gender                              int64\n",
       "Race                                int64\n",
       "RenalDiseaseIndicator              object\n",
       "State                               int64\n",
       "County                              int64\n",
       "NoOfMonths_PartACov                 int64\n",
       "NoOfMonths_PartBCov                 int64\n",
       "ChronicCond_Alzheimer               int64\n",
       "ChronicCond_Heartfailure            int64\n",
       "ChronicCond_KidneyDisease           int64\n",
       "ChronicCond_Cancer                  int64\n",
       "ChronicCond_ObstrPulmonary          int64\n",
       "ChronicCond_Depression              int64\n",
       "ChronicCond_Diabetes                int64\n",
       "ChronicCond_IschemicHeart           int64\n",
       "ChronicCond_Osteoporasis            int64\n",
       "ChronicCond_rheumatoidarthritis     int64\n",
       "ChronicCond_stroke                  int64\n",
       "IPAnnualReimbursementAmt            int64\n",
       "IPAnnualDeductibleAmt               int64\n",
       "OPAnnualReimbursementAmt            int64\n",
       "PotentialFraud                     object\n",
       "Dead                                int64\n",
       "ClaimStartDt_year                   int64\n",
       "ClaimStartDt_yearmonth              int64\n",
       "ClaimStartDt_dow                    int64\n",
       "ClaimEndDt_year                     int64\n",
       "ClaimEndDt_yearmonth                int64\n",
       "ClaimEndDt_dow                      int64\n",
       "ClaimLength                         int64\n",
       "DOB_year                            int64\n",
       "OperatingPhysician_flag             int64\n",
       "OtherPhysician_flag                 int64\n",
       "dtype: object"
      ]
     },
     "execution_count": 4,
     "metadata": {},
     "output_type": "execute_result"
    }
   ],
   "source": [
    "df.dtypes"
   ]
  },
  {
   "cell_type": "markdown",
   "metadata": {},
   "source": [
    "# Prepare Data for ML Models\n",
    "\n",
    "Extract the labels from the dataframe"
   ]
  },
  {
   "cell_type": "code",
   "execution_count": 34,
   "metadata": {},
   "outputs": [],
   "source": [
    "Y = df[\"PotentialFraud\"].apply(lambda x: 1 if x == \"Yes\" else 0)\n",
    "X = df.drop(\"PotentialFraud\", axis = 1)"
   ]
  },
  {
   "cell_type": "markdown",
   "metadata": {},
   "source": [
    "Split data into 80% Train and 20% Test. Set random state so that results are reproducable"
   ]
  },
  {
   "cell_type": "code",
   "execution_count": 60,
   "metadata": {},
   "outputs": [],
   "source": [
    "trainX, testX, trainY, testY = train_test_split(X, Y, test_size = 0.2, \n",
    "                                         random_state = 42)"
   ]
  },
  {
   "cell_type": "markdown",
   "metadata": {},
   "source": [
    "## Sample Training Data\n",
    "\n",
    "Sample training data so that we can run models with reasonable speeds.\n",
    "\n",
    "Once we have a promising model we can have a larger sample so that the model can pick up more complex patterns"
   ]
  },
  {
   "cell_type": "code",
   "execution_count": 61,
   "metadata": {},
   "outputs": [
    {
     "name": "stdout",
     "output_type": "stream",
     "text": [
      "(89314, 40)\n",
      "(89314,)\n"
     ]
    }
   ],
   "source": [
    "sample_fraction = 0.2\n",
    "\n",
    "trainX = trainX.sample(frac = sample_fraction, random_state = 42)\n",
    "trainY = trainY[trainY.index.isin(trainX.index)]\n",
    "\n",
    "print(trainX.shape)\n",
    "print(trainY.shape)"
   ]
  },
  {
   "cell_type": "markdown",
   "metadata": {},
   "source": [
    "## Diving columns into numerical and categorical\n",
    "\n",
    "Since we will have apply different preprocessing to both types we will split data into numerical and categorical. Some columns such as `ClaimStartDt` will be removed in the process.\n",
    "\n",
    "Since we will use one hot encoding later, we also will drop columns with very high cardinality - as raised in the EDA section in the last notebook\n",
    "- BeneID\n",
    "- Provider"
   ]
  },
  {
   "cell_type": "code",
   "execution_count": 62,
   "metadata": {},
   "outputs": [],
   "source": [
    "num_cols = ['InscClaimAmtReimbursed', 'NoOfMonths_PartACov', \n",
    "            'NoOfMonths_PartBCov', 'NoOfMonths_PartBCov', \n",
    "            'IPAnnualReimbursementAmt', 'IPAnnualDeductibleAmt', \n",
    "            'OPAnnualReimbursementAmt', 'ClaimLength']\n",
    "\n",
    "cat_cols = ['inpatient_status', 'Gender', 'Race',\n",
    "            'RenalDiseaseIndicator', 'State', 'County', 'ChronicCond_Alzheimer',\n",
    "            'ChronicCond_Heartfailure', 'ChronicCond_KidneyDisease',\n",
    "            'ChronicCond_Cancer', 'ChronicCond_ObstrPulmonary',\n",
    "            'ChronicCond_Depression', 'ChronicCond_Diabetes',\n",
    "            'ChronicCond_IschemicHeart', 'ChronicCond_Osteoporasis',\n",
    "            'ChronicCond_rheumatoidarthritis', 'ChronicCond_stroke','Dead', \n",
    "            'ClaimStartDt_year', 'ClaimStartDt_yearmonth', 'ClaimStartDt_dow', \n",
    "            'ClaimEndDt_year', 'ClaimEndDt_yearmonth', 'ClaimEndDt_dow', \n",
    "            'DOB_year', 'OperatingPhysician_flag', 'OtherPhysician_flag']\n",
    "\n",
    "# Ensure we only keep these columns"
   ]
  },
  {
   "cell_type": "markdown",
   "metadata": {},
   "source": [
    "## Building Preprocessing Pipeline\n",
    "\n",
    "Standardise numerical attributes so they have same scale. StandardScaler - zero mean with unit variance\n",
    "\n",
    "Use one hot encoding for categorical attributes."
   ]
  },
  {
   "cell_type": "code",
   "execution_count": 173,
   "metadata": {},
   "outputs": [],
   "source": [
    "from sklearn.pipeline import Pipeline\n",
    "from sklearn.preprocessing import StandardScaler\n",
    "from sklearn.preprocessing import OneHotEncoder\n",
    "\n",
    "from sklearn.compose import ColumnTransformer\n",
    "\n",
    "# include handle_unknown='ignore' to not get error when new categories appear in test\n",
    "full_pipeline = ColumnTransformer([\n",
    "                                (\"num\", StandardScaler(), num_cols),\n",
    "                                (\"cat\", OneHotEncoder(handle_unknown='ignore'), cat_cols),\n",
    "                            ])"
   ]
  },
  {
   "cell_type": "code",
   "execution_count": 64,
   "metadata": {},
   "outputs": [
    {
     "name": "stderr",
     "output_type": "stream",
     "text": [
      "C:\\Users\\User\\Anaconda3\\envs\\research_project\\lib\\site-packages\\sklearn\\preprocessing\\data.py:617: DataConversionWarning: Data with input dtype int64 were all converted to float64 by StandardScaler.\n",
      "  return self.partial_fit(X, y)\n",
      "C:\\Users\\User\\Anaconda3\\envs\\research_project\\lib\\site-packages\\sklearn\\base.py:462: DataConversionWarning: Data with input dtype int64 were all converted to float64 by StandardScaler.\n",
      "  return self.fit(X, **fit_params).transform(X)\n"
     ]
    }
   ],
   "source": [
    "trainX_tr = full_pipeline.fit_transform(trainX)"
   ]
  },
  {
   "cell_type": "code",
   "execution_count": 65,
   "metadata": {},
   "outputs": [
    {
     "data": {
      "text/plain": [
       "(89314, 518)"
      ]
     },
     "execution_count": 65,
     "metadata": {},
     "output_type": "execute_result"
    }
   ],
   "source": [
    "trainX_tr.shape"
   ]
  },
  {
   "cell_type": "markdown",
   "metadata": {},
   "source": [
    "# Train Models\n",
    "\n",
    "## Short-List Promising Models\n",
    "\n",
    "Using our sample training data we will explore of promising models from running cross validation on the following learners\n",
    "- Linear Regression\n",
    "- Naive Bayes\n",
    "- SVM\n",
    "- Random Forests\n",
    "\n",
    "Since the data is slightly unbalanced it would be mis-leading to use accuracy as a performance measure. Since we want a balance of high precision and recall we will evaluate performance based on the `f1` metric"
   ]
  },
  {
   "cell_type": "code",
   "execution_count": 66,
   "metadata": {},
   "outputs": [],
   "source": [
    "from sklearn.naive_bayes import GaussianNB\n",
    "from sklearn.linear_model import SGDClassifier\n",
    "from sklearn.ensemble import RandomForestClassifier\n",
    "\n",
    "from sklearn.model_selection import cross_val_score\n",
    "\n",
    "gnb_clf = GaussianNB()\n",
    "sgd_clf = SGDClassifier(random_state = 42)\n",
    "rfs_clf = RandomForestClassifier(n_estimators = 20, random_state = 42)"
   ]
  },
  {
   "cell_type": "code",
   "execution_count": 68,
   "metadata": {},
   "outputs": [
    {
     "data": {
      "text/plain": [
       "0.5502494547207281"
      ]
     },
     "execution_count": 68,
     "metadata": {},
     "output_type": "execute_result"
    }
   ],
   "source": [
    "# Convert sparse matrix to numpy array\n",
    "gnb_scores = cross_val_score(gnb_clf, trainX_tr.todense(), trainY, \n",
    "                             scoring=\"f1\", cv=5)\n",
    "gnb_scores.mean()"
   ]
  },
  {
   "cell_type": "code",
   "execution_count": 70,
   "metadata": {},
   "outputs": [
    {
     "name": "stderr",
     "output_type": "stream",
     "text": [
      "C:\\Users\\User\\Anaconda3\\envs\\research_project\\lib\\site-packages\\sklearn\\linear_model\\stochastic_gradient.py:144: FutureWarning: max_iter and tol parameters have been added in SGDClassifier in 0.19. If both are left unset, they default to max_iter=5 and tol=None. If tol is not None, max_iter defaults to max_iter=1000. From 0.21, default max_iter will be 1000, and default tol will be 1e-3.\n",
      "  FutureWarning)\n"
     ]
    },
    {
     "data": {
      "text/plain": [
       "0.47568951318416053"
      ]
     },
     "execution_count": 70,
     "metadata": {},
     "output_type": "execute_result"
    }
   ],
   "source": [
    "sgd_scores = cross_val_score(sgd_clf, trainX_tr, trainY, \n",
    "                             scoring=\"f1\", cv=5)\n",
    "sgd_scores.mean()"
   ]
  },
  {
   "cell_type": "code",
   "execution_count": 71,
   "metadata": {},
   "outputs": [
    {
     "data": {
      "text/plain": [
       "0.16712003840612372"
      ]
     },
     "execution_count": 71,
     "metadata": {},
     "output_type": "execute_result"
    }
   ],
   "source": [
    "# Takes a looong time\n",
    "rfs_scores = cross_val_score(rfs_clf, trainX_tr, trainY, \n",
    "                             scoring=\"f1\", cv=5)\n",
    "rfs_scores.mean()"
   ]
  },
  {
   "cell_type": "markdown",
   "metadata": {},
   "source": [
    "## Box plot the F1 scores"
   ]
  },
  {
   "cell_type": "code",
   "execution_count": 78,
   "metadata": {},
   "outputs": [
    {
     "data": {
      "image/png": "[encoded data removed]",
      "text/plain": [
       "<Figure size 576x288 with 1 Axes>"
      ]
     },
     "metadata": {
      "needs_background": "light"
     },
     "output_type": "display_data"
    }
   ],
   "source": [
    "plt.figure(figsize=(8, 4))\n",
    "\n",
    "plt.boxplot([gnb_scores, sgd_scores, rfs_scores], \n",
    "            labels=(\"Naive Bayes\",\n",
    "                    \"Stochastic Gradient Descent\", \"Random Forest\"))\n",
    "\n",
    "plt.ylabel(\"F1 Measure\", fontsize=14)\n",
    "plt.title(\"Boxplot of F1 Scores on 5-Fold Cross Validation - Sampled Dataset\")\n",
    "plt.show()"
   ]
  },
  {
   "cell_type": "markdown",
   "metadata": {},
   "source": [
    "## Comments on Baseline Models\n",
    "\n",
    "Performance is quite bad overall. This could be due to messy data and the source of the data is unknown i.e. possibly synthetic data. Also, the class label is `Potential Fraud` meaning that it is not proven fraud and thus, the labels may not be reliable and have a lot of associated noise.\n",
    "\n",
    "Naive Bayes\n",
    "- Performed the best and had a very low standard deviation.\n",
    "\n",
    "Stochastic Gradient Descent\n",
    "- Performed better than random forest but not as well as NB\n",
    "\n",
    "Random Forest\n",
    "- The worst out of the 3 model and took a while to run also.\n",
    "- Would likely perform better with more estimators and data\n",
    "\n",
    "Support Vector Machines were tried as well but had a very long run time. Logistic Regression also had very bad performance (~0) so it was not included.\n",
    "\n",
    "Since Naive Bayes cannot be fine tuned, we will explore if Stochastic Gradient Descent can be improved further"
   ]
  },
  {
   "cell_type": "markdown",
   "metadata": {},
   "source": [
    "# Fine-Tuning Promising Models"
   ]
  },
  {
   "cell_type": "code",
   "execution_count": 92,
   "metadata": {},
   "outputs": [
    {
     "name": "stderr",
     "output_type": "stream",
     "text": [
      "C:\\Users\\User\\Anaconda3\\envs\\research_project\\lib\\site-packages\\sklearn\\preprocessing\\data.py:617: DataConversionWarning: Data with input dtype int64 were all converted to float64 by StandardScaler.\n",
      "  return self.partial_fit(X, y)\n",
      "C:\\Users\\User\\Anaconda3\\envs\\research_project\\lib\\site-packages\\sklearn\\base.py:462: DataConversionWarning: Data with input dtype int64 were all converted to float64 by StandardScaler.\n",
      "  return self.fit(X, **fit_params).transform(X)\n"
     ]
    },
    {
     "name": "stdout",
     "output_type": "stream",
     "text": [
      "(223284, 526)\n",
      "(223284,)\n"
     ]
    }
   ],
   "source": [
    "# Re-run preprocessing with larger sample\n",
    "trainX, testX, trainY, testY = train_test_split(X, Y, test_size = 0.2, \n",
    "                                         random_state = 42)\n",
    "\n",
    "sample_fraction = 0.5\n",
    "\n",
    "trainX = trainX.sample(frac = sample_fraction, random_state = 42)\n",
    "trainY = trainY[trainY.index.isin(trainX.index)]\n",
    "\n",
    "trainX_tr = full_pipeline.fit_transform(trainX)\n",
    "print(trainX_tr.shape)\n",
    "print(trainY.shape)"
   ]
  },
  {
   "cell_type": "markdown",
   "metadata": {},
   "source": [
    "## Using Grid Search for Model Parameters"
   ]
  },
  {
   "cell_type": "code",
   "execution_count": 101,
   "metadata": {},
   "outputs": [
    {
     "name": "stdout",
     "output_type": "stream",
     "text": [
      "It took 371.13 seconds to do a grid search\n"
     ]
    }
   ],
   "source": [
    "from sklearn.model_selection import GridSearchCV\n",
    "import time\n",
    "\n",
    "# Getting some f1 warnings\n",
    "# https://stackoverflow.com/questions/43162506/undefinedmetricwarning-f-score-is-ill-defined-and-being-set-to-0-0-in-labels-wi\n",
    "\n",
    "import warnings\n",
    "warnings.filterwarnings('ignore')\n",
    "\n",
    "param_grid = {\"max_iter\": [1, 5, 10],\n",
    "              \"alpha\": [0.001, 0.01, 0.1, 1, 10],\n",
    "              \"penalty\": [\"none\", \"l1\", \"l2\"]}\n",
    "\n",
    "# run grid search\n",
    "grid_search = GridSearchCV(sgd_clf, param_grid = param_grid,\n",
    "                          scoring=\"f1\", cv=5)\n",
    "t0 = time.time()\n",
    "grid_search.fit(trainX_tr, trainY)\n",
    "print(\"It took {} seconds to do a grid search\".format(round(time.time()-t0, 2)))"
   ]
  },
  {
   "cell_type": "code",
   "execution_count": 102,
   "metadata": {},
   "outputs": [
    {
     "data": {
      "text/plain": [
       "{'alpha': 10, 'max_iter': 1, 'penalty': 'l1'}"
      ]
     },
     "execution_count": 102,
     "metadata": {},
     "output_type": "execute_result"
    }
   ],
   "source": [
    "grid_search.best_params_"
   ]
  },
  {
   "cell_type": "code",
   "execution_count": 103,
   "metadata": {},
   "outputs": [
    {
     "data": {
      "text/plain": [
       "SGDClassifier(alpha=10, average=False, class_weight=None,\n",
       "       early_stopping=False, epsilon=0.1, eta0=0.0, fit_intercept=True,\n",
       "       l1_ratio=0.15, learning_rate='optimal', loss='hinge', max_iter=1,\n",
       "       n_iter=None, n_iter_no_change=5, n_jobs=None, penalty='l1',\n",
       "       power_t=0.5, random_state=42, shuffle=True, tol=None,\n",
       "       validation_fraction=0.1, verbose=0, warm_start=False)"
      ]
     },
     "execution_count": 103,
     "metadata": {},
     "output_type": "execute_result"
    }
   ],
   "source": [
    "grid_search.best_estimator_"
   ]
  },
  {
   "cell_type": "code",
   "execution_count": 107,
   "metadata": {},
   "outputs": [
    {
     "data": {
      "text/html": [
       "<div>\n",
       "<style scoped>\n",
       "    .dataframe tbody tr th:only-of-type {\n",
       "        vertical-align: middle;\n",
       "    }\n",
       "\n",
       "    .dataframe tbody tr th {\n",
       "        vertical-align: top;\n",
       "    }\n",
       "\n",
       "    .dataframe thead th {\n",
       "        text-align: right;\n",
       "    }\n",
       "</style>\n",
       "<table border=\"1\" class=\"dataframe\">\n",
       "  <thead>\n",
       "    <tr style=\"text-align: right;\">\n",
       "      <th></th>\n",
       "      <th>mean_fit_time</th>\n",
       "      <th>mean_score_time</th>\n",
       "      <th>mean_test_score</th>\n",
       "      <th>mean_train_score</th>\n",
       "      <th>param_alpha</th>\n",
       "      <th>param_max_iter</th>\n",
       "      <th>param_penalty</th>\n",
       "      <th>params</th>\n",
       "      <th>rank_test_score</th>\n",
       "      <th>split0_test_score</th>\n",
       "      <th>...</th>\n",
       "      <th>split2_test_score</th>\n",
       "      <th>split2_train_score</th>\n",
       "      <th>split3_test_score</th>\n",
       "      <th>split3_train_score</th>\n",
       "      <th>split4_test_score</th>\n",
       "      <th>split4_train_score</th>\n",
       "      <th>std_fit_time</th>\n",
       "      <th>std_score_time</th>\n",
       "      <th>std_test_score</th>\n",
       "      <th>std_train_score</th>\n",
       "    </tr>\n",
       "  </thead>\n",
       "  <tbody>\n",
       "    <tr>\n",
       "      <th>37</th>\n",
       "      <td>0.696176</td>\n",
       "      <td>0.042615</td>\n",
       "      <td>0.441879</td>\n",
       "      <td>0.441881</td>\n",
       "      <td>10</td>\n",
       "      <td>1</td>\n",
       "      <td>l1</td>\n",
       "      <td>{'max_iter': 1, 'penalty': 'l1', 'alpha': 10}</td>\n",
       "      <td>1</td>\n",
       "      <td>0.552353</td>\n",
       "      <td>...</td>\n",
       "      <td>0.552353</td>\n",
       "      <td>0.552350</td>\n",
       "      <td>0.000000</td>\n",
       "      <td>0.000000</td>\n",
       "      <td>0.552339</td>\n",
       "      <td>0.552353</td>\n",
       "      <td>0.096895</td>\n",
       "      <td>0.007751</td>\n",
       "      <td>0.220940</td>\n",
       "      <td>0.220940</td>\n",
       "    </tr>\n",
       "    <tr>\n",
       "      <th>43</th>\n",
       "      <td>3.030769</td>\n",
       "      <td>0.037626</td>\n",
       "      <td>0.441879</td>\n",
       "      <td>0.441881</td>\n",
       "      <td>10</td>\n",
       "      <td>10</td>\n",
       "      <td>l1</td>\n",
       "      <td>{'max_iter': 10, 'penalty': 'l1', 'alpha': 10}</td>\n",
       "      <td>1</td>\n",
       "      <td>0.552353</td>\n",
       "      <td>...</td>\n",
       "      <td>0.552353</td>\n",
       "      <td>0.552350</td>\n",
       "      <td>0.000000</td>\n",
       "      <td>0.000000</td>\n",
       "      <td>0.552339</td>\n",
       "      <td>0.552353</td>\n",
       "      <td>0.253655</td>\n",
       "      <td>0.006356</td>\n",
       "      <td>0.220940</td>\n",
       "      <td>0.220940</td>\n",
       "    </tr>\n",
       "    <tr>\n",
       "      <th>40</th>\n",
       "      <td>1.632056</td>\n",
       "      <td>0.034837</td>\n",
       "      <td>0.441879</td>\n",
       "      <td>0.441881</td>\n",
       "      <td>10</td>\n",
       "      <td>5</td>\n",
       "      <td>l1</td>\n",
       "      <td>{'max_iter': 5, 'penalty': 'l1', 'alpha': 10}</td>\n",
       "      <td>1</td>\n",
       "      <td>0.552353</td>\n",
       "      <td>...</td>\n",
       "      <td>0.552353</td>\n",
       "      <td>0.552350</td>\n",
       "      <td>0.000000</td>\n",
       "      <td>0.000000</td>\n",
       "      <td>0.552339</td>\n",
       "      <td>0.552353</td>\n",
       "      <td>0.139365</td>\n",
       "      <td>0.008645</td>\n",
       "      <td>0.220940</td>\n",
       "      <td>0.220940</td>\n",
       "    </tr>\n",
       "    <tr>\n",
       "      <th>36</th>\n",
       "      <td>0.467405</td>\n",
       "      <td>0.045141</td>\n",
       "      <td>0.350135</td>\n",
       "      <td>0.349852</td>\n",
       "      <td>10</td>\n",
       "      <td>1</td>\n",
       "      <td>none</td>\n",
       "      <td>{'max_iter': 1, 'penalty': 'none', 'alpha': 10}</td>\n",
       "      <td>4</td>\n",
       "      <td>0.454796</td>\n",
       "      <td>...</td>\n",
       "      <td>0.405698</td>\n",
       "      <td>0.406724</td>\n",
       "      <td>0.113045</td>\n",
       "      <td>0.111358</td>\n",
       "      <td>0.389966</td>\n",
       "      <td>0.393851</td>\n",
       "      <td>0.027642</td>\n",
       "      <td>0.014710</td>\n",
       "      <td>0.121005</td>\n",
       "      <td>0.121420</td>\n",
       "    </tr>\n",
       "    <tr>\n",
       "      <th>39</th>\n",
       "      <td>1.307093</td>\n",
       "      <td>0.035664</td>\n",
       "      <td>0.311482</td>\n",
       "      <td>0.313137</td>\n",
       "      <td>10</td>\n",
       "      <td>5</td>\n",
       "      <td>none</td>\n",
       "      <td>{'max_iter': 5, 'penalty': 'none', 'alpha': 10}</td>\n",
       "      <td>5</td>\n",
       "      <td>0.357497</td>\n",
       "      <td>...</td>\n",
       "      <td>0.331974</td>\n",
       "      <td>0.333762</td>\n",
       "      <td>0.178284</td>\n",
       "      <td>0.176909</td>\n",
       "      <td>0.375292</td>\n",
       "      <td>0.377664</td>\n",
       "      <td>0.194327</td>\n",
       "      <td>0.008634</td>\n",
       "      <td>0.069798</td>\n",
       "      <td>0.071341</td>\n",
       "    </tr>\n",
       "  </tbody>\n",
       "</table>\n",
       "<p>5 rows × 23 columns</p>\n",
       "</div>"
      ],
      "text/plain": [
       "    mean_fit_time  mean_score_time  mean_test_score  mean_train_score  \\\n",
       "37       0.696176         0.042615         0.441879          0.441881   \n",
       "43       3.030769         0.037626         0.441879          0.441881   \n",
       "40       1.632056         0.034837         0.441879          0.441881   \n",
       "36       0.467405         0.045141         0.350135          0.349852   \n",
       "39       1.307093         0.035664         0.311482          0.313137   \n",
       "\n",
       "   param_alpha param_max_iter param_penalty  \\\n",
       "37          10              1            l1   \n",
       "43          10             10            l1   \n",
       "40          10              5            l1   \n",
       "36          10              1          none   \n",
       "39          10              5          none   \n",
       "\n",
       "                                             params  rank_test_score  \\\n",
       "37    {'max_iter': 1, 'penalty': 'l1', 'alpha': 10}                1   \n",
       "43   {'max_iter': 10, 'penalty': 'l1', 'alpha': 10}                1   \n",
       "40    {'max_iter': 5, 'penalty': 'l1', 'alpha': 10}                1   \n",
       "36  {'max_iter': 1, 'penalty': 'none', 'alpha': 10}                4   \n",
       "39  {'max_iter': 5, 'penalty': 'none', 'alpha': 10}                5   \n",
       "\n",
       "    split0_test_score       ...         split2_test_score  split2_train_score  \\\n",
       "37           0.552353       ...                  0.552353            0.552350   \n",
       "43           0.552353       ...                  0.552353            0.552350   \n",
       "40           0.552353       ...                  0.552353            0.552350   \n",
       "36           0.454796       ...                  0.405698            0.406724   \n",
       "39           0.357497       ...                  0.331974            0.333762   \n",
       "\n",
       "    split3_test_score  split3_train_score  split4_test_score  \\\n",
       "37           0.000000            0.000000           0.552339   \n",
       "43           0.000000            0.000000           0.552339   \n",
       "40           0.000000            0.000000           0.552339   \n",
       "36           0.113045            0.111358           0.389966   \n",
       "39           0.178284            0.176909           0.375292   \n",
       "\n",
       "    split4_train_score  std_fit_time  std_score_time  std_test_score  \\\n",
       "37            0.552353      0.096895        0.007751        0.220940   \n",
       "43            0.552353      0.253655        0.006356        0.220940   \n",
       "40            0.552353      0.139365        0.008645        0.220940   \n",
       "36            0.393851      0.027642        0.014710        0.121005   \n",
       "39            0.377664      0.194327        0.008634        0.069798   \n",
       "\n",
       "    std_train_score  \n",
       "37         0.220940  \n",
       "43         0.220940  \n",
       "40         0.220940  \n",
       "36         0.121420  \n",
       "39         0.071341  \n",
       "\n",
       "[5 rows x 23 columns]"
      ]
     },
     "execution_count": 107,
     "metadata": {},
     "output_type": "execute_result"
    }
   ],
   "source": [
    "scores = pd.DataFrame(grid_search.cv_results_)\n",
    "scores.sort_values(by = ['mean_test_score'], ascending = False)[:5]"
   ]
  },
  {
   "cell_type": "markdown",
   "metadata": {},
   "source": [
    "## Trying to Improve GridSearch\n",
    "\n",
    "- `max_iter` had no affect on performance, 1 has fasted run time.\n",
    "- `penalty` will be set to *l1*\n",
    "- We will try larger values for `alpha` and change additional parameters\n",
    "- We will also try setting the class weight to be inversely proportional to class frequencies\n"
   ]
  },
  {
   "cell_type": "code",
   "execution_count": 152,
   "metadata": {},
   "outputs": [
    {
     "name": "stdout",
     "output_type": "stream",
     "text": [
      "It took 16.41 seconds to do a grid search\n"
     ]
    }
   ],
   "source": [
    "sgd_clf = SGDClassifier(random_state = 42, max_iter=1, penalty = 'l1')\n",
    "\n",
    "param_grid2 = {\"alpha\": [10, 20],\n",
    "              \"class_weight\" : [\"balanced\", None]}\n",
    "\n",
    "# run grid search\n",
    "grid_search2 = GridSearchCV(sgd_clf, param_grid = param_grid2,\n",
    "                          scoring=\"f1\", cv=5)\n",
    "t0 = time.time()\n",
    "grid_search2.fit(trainX_tr, trainY)\n",
    "print(\"It took {} seconds to do a grid search\".format(round(time.time()-t0, 2)))"
   ]
  },
  {
   "cell_type": "code",
   "execution_count": 153,
   "metadata": {},
   "outputs": [
    {
     "data": {
      "text/plain": [
       "{'alpha': 10, 'class_weight': 'balanced'}"
      ]
     },
     "execution_count": 153,
     "metadata": {},
     "output_type": "execute_result"
    }
   ],
   "source": [
    "grid_search2.best_params_"
   ]
  },
  {
   "cell_type": "markdown",
   "metadata": {},
   "source": [
    "Still the same alpha, but we have a better estimator with the class weight set as balanced. We now have two possible models to choose from. In the next section we will evaluate these further."
   ]
  },
  {
   "cell_type": "code",
   "execution_count": 154,
   "metadata": {},
   "outputs": [],
   "source": [
    "final_sgd_model = grid_search2.best_estimator_\n",
    "final_nb_model = GaussianNB()"
   ]
  },
  {
   "cell_type": "markdown",
   "metadata": {},
   "source": [
    "# Model Evaluation\n",
    "\n",
    "## Confusion Matrix"
   ]
  },
  {
   "cell_type": "code",
   "execution_count": 155,
   "metadata": {},
   "outputs": [],
   "source": [
    "# Use cross_val_predict to get only predicted values from the training data\n",
    "from sklearn.model_selection import cross_val_predict\n",
    "\n",
    "trainY_pred_sgd = cross_val_predict(final_sgd_model, trainX_tr, trainY, cv=5)\n",
    "trainY_pred_nb = cross_val_predict(final_nb_model, trainX_tr.todense(), trainY, cv=5)"
   ]
  },
  {
   "cell_type": "code",
   "execution_count": 156,
   "metadata": {},
   "outputs": [],
   "source": [
    "from sklearn.metrics import confusion_matrix\n",
    "from sklearn.metrics import precision_score, recall_score\n",
    "\n",
    "def plot_cm(predictions, title = \"Confusion Matrix\"):\n",
    "    \"\"\"Function to plot confusion matrix\"\"\"\n",
    "\n",
    "    cm = confusion_matrix(trainY, predictions)\n",
    "    # Show as percentages\n",
    "    cm = cm.astype('float') / cm.sum(axis=1)[:, np.newaxis]\n",
    "    \n",
    "    plt.figure(figsize=(8, 4))\n",
    "    ax= plt.subplot()\n",
    "    sns.heatmap(cm, annot=True, ax = ax); #annot=True to annotate cells\n",
    "\n",
    "    # labels, title and ticks\n",
    "    ax.set_xlabel('Predicted labels');ax.set_ylabel('True labels'); \n",
    "    ax.set_title(title); \n",
    "    ax.xaxis.set_ticklabels(['Non Fraud', 'Fraud']); ax.yaxis.set_ticklabels(['Non Fraud', 'Fraud']);\n",
    "    \n",
    "    print(\"Precision: \", precision_score(trainY, predictions))\n",
    "    print(\"Recall: \", recall_score(trainY, predictions))"
   ]
  },
  {
   "cell_type": "code",
   "execution_count": 157,
   "metadata": {},
   "outputs": [
    {
     "name": "stdout",
     "output_type": "stream",
     "text": [
      "Precision:  1.0\n",
      "Recall:  1.0\n"
     ]
    },
    {
     "data": {
      "image/png": "[encoded data removed]",
      "text/plain": [
       "<Figure size 576x288 with 2 Axes>"
      ]
     },
     "metadata": {
      "needs_background": "light"
     },
     "output_type": "display_data"
    }
   ],
   "source": [
    "# Perfect Confusion Matrix\n",
    "plot_cm(trainY, \"Perfect Confusion Matrix\")"
   ]
  },
  {
   "cell_type": "code",
   "execution_count": 158,
   "metadata": {},
   "outputs": [
    {
     "name": "stdout",
     "output_type": "stream",
     "text": [
      "Precision:  0.38154926186970617\n",
      "Recall:  0.7999976524168368\n"
     ]
    },
    {
     "data": {
      "image/png": "[encoded data removed]",
      "text/plain": [
       "<Figure size 576x288 with 2 Axes>"
      ]
     },
     "metadata": {
      "needs_background": "light"
     },
     "output_type": "display_data"
    }
   ],
   "source": [
    "plot_cm(trainY_pred_sgd, \"SGD Confusion Matrix\")"
   ]
  },
  {
   "cell_type": "code",
   "execution_count": 164,
   "metadata": {},
   "outputs": [
    {
     "name": "stdout",
     "output_type": "stream",
     "text": [
      "Precision:  0.38163016643012626\n",
      "Recall:  0.9816066859168486\n"
     ]
    },
    {
     "data": {
      "image/png": "[encoded data removed]",
      "text/plain": [
       "<Figure size 576x288 with 2 Axes>"
      ]
     },
     "metadata": {
      "needs_background": "light"
     },
     "output_type": "display_data"
    }
   ],
   "source": [
    "plot_cm(trainY_pred_nb, \"NB Confusion Matrix\")"
   ]
  },
  {
   "cell_type": "markdown",
   "metadata": {},
   "source": [
    "Both models show a high recall and low precision. \n",
    "\n",
    "**The amount of truly fraudulent transactions among those that are classified as fraudulent is low, that is a large number of the \"positive\" predictions are wrong.**\n",
    "\n",
    "Let's see what happens if we change the threshold. We'll start by looking at precision recall curve.\n",
    "\n",
    "GaussianNB doesn't have thresholds so we will drop it from here\n",
    "\n",
    "## Precision Recall Curve"
   ]
  },
  {
   "cell_type": "code",
   "execution_count": 161,
   "metadata": {},
   "outputs": [],
   "source": [
    "# To get thresholds we need scores of all predictions\n",
    "trainY_scores_sgd = cross_val_predict(final_sgd_model, trainX_tr, trainY, \n",
    "                                      cv=5, method = \"decision_function\")"
   ]
  },
  {
   "cell_type": "code",
   "execution_count": 162,
   "metadata": {},
   "outputs": [],
   "source": [
    "from sklearn.metrics import precision_recall_curve\n",
    "\n",
    "precisions, recalls, thresholds = precision_recall_curve(trainY, trainY_scores_sgd)"
   ]
  },
  {
   "cell_type": "code",
   "execution_count": 163,
   "metadata": {},
   "outputs": [
    {
     "data": {
      "image/png": "[encoded data removed]",
      "text/plain": [
       "<Figure size 576x432 with 1 Axes>"
      ]
     },
     "metadata": {
      "needs_background": "light"
     },
     "output_type": "display_data"
    }
   ],
   "source": [
    "# Plot curve\n",
    "\n",
    "def plot_precision_vs_recall(precisions, recalls):\n",
    "    plt.plot(recalls, precisions, \"b-\", linewidth=2)\n",
    "    plt.xlabel(\"Recall\", fontsize=16)\n",
    "    plt.ylabel(\"Precision\", fontsize=16)\n",
    "    plt.axis([0, 1, 0, 1])\n",
    "    plt.grid(True)\n",
    "    \n",
    "plt.figure(figsize=(8, 6))\n",
    "plot_precision_vs_recall(precisions, recalls)\n",
    "plt.title(\"Precision Recall Curve\")\n",
    "plt.show()"
   ]
  },
  {
   "cell_type": "markdown",
   "metadata": {},
   "source": [
    "Doesn't look good. Cannot have higher than 0.4 Precision without drastically reducing the Recall."
   ]
  },
  {
   "cell_type": "markdown",
   "metadata": {},
   "source": [
    "## ROC Curve"
   ]
  },
  {
   "cell_type": "code",
   "execution_count": 165,
   "metadata": {},
   "outputs": [
    {
     "data": {
      "image/png": "[encoded data removed]",
      "text/plain": [
       "<Figure size 576x432 with 1 Axes>"
      ]
     },
     "metadata": {
      "needs_background": "light"
     },
     "output_type": "display_data"
    }
   ],
   "source": [
    "from sklearn.metrics import roc_curve\n",
    "\n",
    "fpr, tpr, thresholds = roc_curve(trainY, trainY_scores_sgd)\n",
    "\n",
    "\n",
    "def plot_roc_curve(fpr, tpr, label=None):\n",
    "    plt.plot(fpr, tpr, linewidth=2, label=label)\n",
    "    plt.plot([0, 1], [0, 1], 'k--') # dashed diagonal\n",
    "    \n",
    "plt.figure(figsize=(8, 6))                         \n",
    "plot_roc_curve(fpr, tpr)\n",
    "plt.title(\"ROC Curve for SGD\")\n",
    "plt.show()"
   ]
  },
  {
   "cell_type": "markdown",
   "metadata": {},
   "source": [
    "Seems to be no better than guessing!\n",
    "\n",
    "Will try with full training set."
   ]
  },
  {
   "cell_type": "code",
   "execution_count": 166,
   "metadata": {},
   "outputs": [
    {
     "name": "stdout",
     "output_type": "stream",
     "text": [
      "(446568, 528)\n",
      "(446568,)\n",
      "Getting Scores\n"
     ]
    },
    {
     "data": {
      "image/png": "[encoded data removed]",
      "text/plain": [
       "<Figure size 576x432 with 1 Axes>"
      ]
     },
     "metadata": {
      "needs_background": "light"
     },
     "output_type": "display_data"
    }
   ],
   "source": [
    "# Re-run preprocessing with full training set\n",
    "trainX, testX, trainY, testY = train_test_split(X, Y, test_size = 0.2, \n",
    "                                         random_state = 42)\n",
    "\n",
    "trainX_tr = full_pipeline.fit_transform(trainX)\n",
    "print(trainX_tr.shape)\n",
    "print(trainY.shape)\n",
    "\n",
    "print(\"Getting Scores\")\n",
    "trainY_scores_sgd = cross_val_predict(final_sgd_model, trainX_tr, trainY, \n",
    "                                      cv=5, method = \"decision_function\")\n",
    "\n",
    "fpr, tpr, thresholds = roc_curve(trainY, trainY_scores_sgd)\n",
    "plt.figure(figsize=(8, 6))                         \n",
    "plot_roc_curve(fpr, tpr)\n",
    "plt.title(\"ROC Curve for SGD - Full Training Set\")\n",
    "plt.show()"
   ]
  },
  {
   "cell_type": "markdown",
   "metadata": {},
   "source": [
    "There is no difference, thus it seems as though the model is not picking up any meaningful patterns and it's predictions are a good as random. For conclusiveness, we will still evaluate this tuned model on the test set."
   ]
  },
  {
   "cell_type": "markdown",
   "metadata": {},
   "source": [
    "# Evaluating on the Out-of-Sample Data\n",
    "\n",
    "Measuring the generalization error."
   ]
  },
  {
   "cell_type": "code",
   "execution_count": 174,
   "metadata": {},
   "outputs": [],
   "source": [
    "# Fit pipeline on all categories - not ideal\n",
    "full_pipeline.fit(trainX)\n",
    "\n",
    "# Apply preprocessing pipeline to test data.\n",
    "testX_tr = full_pipeline.transform(testX)\n",
    "\n",
    "# Fit model with training data\n",
    "final_sgd_model.fit(trainX_tr, trainY)\n",
    "\n",
    "# Predict y test data\n",
    "y_pred = final_sgd_model.predict(testX_tr)"
   ]
  },
  {
   "cell_type": "code",
   "execution_count": 176,
   "metadata": {},
   "outputs": [],
   "source": [
    "def plot_out_of_sample_cm(predictions, title = \"Confusion Matrix - Out of Sample Data\"):\n",
    "    \"\"\"Function to plot confusion matrix\"\"\"\n",
    "\n",
    "    cm = confusion_matrix(testY, predictions)\n",
    "    # Show as percentages\n",
    "    cm = cm.astype('float') / cm.sum(axis=1)[:, np.newaxis]\n",
    "    \n",
    "    plt.figure(figsize=(8, 4))\n",
    "    ax= plt.subplot()\n",
    "    sns.heatmap(cm, annot=True, ax = ax); #annot=True to annotate cells\n",
    "\n",
    "    # labels, title and ticks\n",
    "    ax.set_xlabel('Predicted labels');ax.set_ylabel('True labels'); \n",
    "    ax.set_title(title); \n",
    "    ax.xaxis.set_ticklabels(['Non Fraud', 'Fraud']); ax.yaxis.set_ticklabels(['Non Fraud', 'Fraud']);\n",
    "    \n",
    "    print(\"Precision: \", precision_score(testY, predictions))\n",
    "    print(\"Recall: \", recall_score(testY, predictions))"
   ]
  },
  {
   "cell_type": "code",
   "execution_count": 178,
   "metadata": {},
   "outputs": [
    {
     "name": "stdout",
     "output_type": "stream",
     "text": [
      "Precision:  0.0\n",
      "Recall:  0.0\n"
     ]
    },
    {
     "data": {
      "image/png": "[encoded data removed]",
      "text/plain": [
       "<Figure size 576x288 with 2 Axes>"
      ]
     },
     "metadata": {
      "needs_background": "light"
     },
     "output_type": "display_data"
    }
   ],
   "source": [
    "plot_out_of_sample_cm(y_pred)"
   ]
  },
  {
   "cell_type": "markdown",
   "metadata": {},
   "source": [
    "# Concluding Toughts\n",
    "\n",
    "From the confusion matrix it's apparent that there is some underlying issue with the data or the model that unfortunately was not figured out in the time frame of this assignment.\n",
    "\n",
    "Apart from a simple mistake that could have been made in the code for this project, there are a number of possible reasons that have caused the model performance.\n",
    "1. Unreliable labels, since we do not know the origin of the data.\n",
    "2. Not enough computational power to test out more complex models that would uncover patterns."
   ]
  },
  {
   "cell_type": "code",
   "execution_count": null,
   "metadata": {},
   "outputs": [],
   "source": []
  }
 ],
 "metadata": {
  "kernelspec": {
   "display_name": "Python 3",
   "language": "python",
   "name": "python3"
  },
  "language_info": {
   "codemirror_mode": {
    "name": "ipython",
    "version": 3
   },
   "file_extension": ".py",
   "mimetype": "text/x-python",
   "name": "python",
   "nbconvert_exporter": "python",
   "pygments_lexer": "ipython3",
   "version": "3.5.5"
  },
  "toc": {
   "base_numbering": 1,
   "nav_menu": {},
   "number_sections": true,
   "sideBar": true,
   "skip_h1_title": false,
   "title_cell": "Table of Contents",
   "title_sidebar": "Contents",
   "toc_cell": false,
   "toc_position": {},
   "toc_section_display": true,
   "toc_window_display": false
  }
 },
 "nbformat": 4,
 "nbformat_minor": 4
}
